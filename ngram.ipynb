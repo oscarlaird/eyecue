{
 "cells": [
  {
   "cell_type": "code",
   "execution_count": 1,
   "metadata": {},
   "outputs": [
    {
     "name": "stdout",
     "output_type": "stream",
     "text": [
      "Defaulting to user installation because normal site-packages is not writeable\n",
      "Collecting wordfreq\n",
      "  Downloading wordfreq-3.1.1-py3-none-any.whl.metadata (27 kB)\n",
      "Requirement already satisfied: ftfy>=6.1 in /home/oscar/.local/lib/python3.12/site-packages (from wordfreq) (6.2.3)\n",
      "Collecting langcodes>=3.0 (from wordfreq)\n",
      "  Downloading langcodes-3.4.1-py3-none-any.whl.metadata (29 kB)\n",
      "Collecting locate<2.0.0,>=1.1.1 (from wordfreq)\n",
      "  Downloading locate-1.1.1-py3-none-any.whl.metadata (3.9 kB)\n",
      "Collecting msgpack<2.0.0,>=1.0.7 (from wordfreq)\n",
      "  Downloading msgpack-1.1.0-cp312-cp312-manylinux_2_17_x86_64.manylinux2014_x86_64.whl.metadata (8.4 kB)\n",
      "Requirement already satisfied: regex>=2023.10.3 in /home/oscar/.local/lib/python3.12/site-packages (from wordfreq) (2024.9.11)\n",
      "Requirement already satisfied: wcwidth<0.3.0,>=0.2.12 in /home/oscar/.local/lib/python3.12/site-packages (from ftfy>=6.1->wordfreq) (0.2.13)\n",
      "Collecting language-data>=1.2 (from langcodes>=3.0->wordfreq)\n",
      "  Downloading language_data-1.2.0-py3-none-any.whl.metadata (4.3 kB)\n",
      "Collecting marisa-trie>=0.7.7 (from language-data>=1.2->langcodes>=3.0->wordfreq)\n",
      "  Downloading marisa_trie-1.2.0-cp312-cp312-manylinux_2_17_x86_64.manylinux2014_x86_64.whl.metadata (8.7 kB)\n",
      "Requirement already satisfied: setuptools in /usr/lib/python3/dist-packages (from marisa-trie>=0.7.7->language-data>=1.2->langcodes>=3.0->wordfreq) (68.1.2)\n",
      "Downloading wordfreq-3.1.1-py3-none-any.whl (56.8 MB)\n",
      "\u001b[2K   \u001b[38;2;114;156;31m━━━━━━━━━━━━━━━━━━━━━━━━━━━━━━━━━━━━━━━━\u001b[0m \u001b[32m56.8/56.8 MB\u001b[0m \u001b[31m11.7 MB/s\u001b[0m eta \u001b[36m0:00:00\u001b[0mm eta \u001b[36m0:00:01\u001b[0m[36m0:00:01\u001b[0m\n",
      "\u001b[?25hDownloading langcodes-3.4.1-py3-none-any.whl (182 kB)\n",
      "\u001b[2K   \u001b[38;2;114;156;31m━━━━━━━━━━━━━━━━━━━━━━━━━━━━━━━━━━━━━━━━\u001b[0m \u001b[32m182.4/182.4 kB\u001b[0m \u001b[31m18.5 MB/s\u001b[0m eta \u001b[36m0:00:00\u001b[0m\n",
      "\u001b[?25hDownloading locate-1.1.1-py3-none-any.whl (5.4 kB)\n",
      "Downloading msgpack-1.1.0-cp312-cp312-manylinux_2_17_x86_64.manylinux2014_x86_64.whl (401 kB)\n",
      "\u001b[2K   \u001b[38;2;114;156;31m━━━━━━━━━━━━━━━━━━━━━━━━━━━━━━━━━━━━━━━━\u001b[0m \u001b[32m401.4/401.4 kB\u001b[0m \u001b[31m17.3 MB/s\u001b[0m eta \u001b[36m0:00:00\u001b[0m\n",
      "\u001b[?25hDownloading language_data-1.2.0-py3-none-any.whl (5.4 MB)\n",
      "\u001b[2K   \u001b[38;2;114;156;31m━━━━━━━━━━━━━━━━━━━━━━━━━━━━━━━━━━━━━━━━\u001b[0m \u001b[32m5.4/5.4 MB\u001b[0m \u001b[31m18.0 MB/s\u001b[0m eta \u001b[36m0:00:00\u001b[0mm eta \u001b[36m0:00:01\u001b[0m[36m0:00:01\u001b[0m\n",
      "\u001b[?25hDownloading marisa_trie-1.2.0-cp312-cp312-manylinux_2_17_x86_64.manylinux2014_x86_64.whl (1.4 MB)\n",
      "\u001b[2K   \u001b[38;2;114;156;31m━━━━━━━━━━━━━━━━━━━━━━━━━━━━━━━━━━━━━━━━\u001b[0m \u001b[32m1.4/1.4 MB\u001b[0m \u001b[31m17.1 MB/s\u001b[0m eta \u001b[36m0:00:00\u001b[0mm eta \u001b[36m0:00:01\u001b[0m0:01\u001b[0m\n",
      "\u001b[?25hInstalling collected packages: msgpack, marisa-trie, locate, language-data, langcodes, wordfreq\n",
      "Successfully installed langcodes-3.4.1 language-data-1.2.0 locate-1.1.1 marisa-trie-1.2.0 msgpack-1.1.0 wordfreq-3.1.1\n"
     ]
    }
   ],
   "source": [
    "!pip install wordfreq --break-system-packages"
   ]
  },
  {
   "cell_type": "code",
   "execution_count": 23,
   "metadata": {},
   "outputs": [],
   "source": [
    "import wordfreq\n",
    "# print top 1000 words with their frequencies\n",
    "words =  wordfreq.top_n_list('en', 100000)\n",
    "wordfreq.zipf_frequency('the', 'en')\n",
    "import numpy as np\n",
    "def letter_to_num(letter):\n",
    "    if letter == ' ':\n",
    "        return 0\n",
    "    if letter == '?':\n",
    "        return 27\n",
    "    return ord(letter) - 96\n",
    "freqs = np.zeros((28, 28, 28, 28), dtype=np.float64)\n",
    "def word_to_quads(word):\n",
    "    word = \"?? \" + word + \" \"\n",
    "    quads = []\n",
    "    for i in range(len(word) - 3):\n",
    "        quads.append(word[i:i+4])\n",
    "    quads = [[letter_to_num(letter) for letter in quad] for quad in quads]\n",
    "    return quads"
   ]
  },
  {
   "cell_type": "code",
   "execution_count": 24,
   "metadata": {},
   "outputs": [],
   "source": [
    "for word in words:\n",
    "    if not all(letter in 'abcdefghijklmnopqrstuvwxyz' for letter in word):\n",
    "        continue\n",
    "    freq = wordfreq.word_frequency(word, 'en')\n",
    "    quads = word_to_quads(word)\n",
    "    for quad in quads:\n",
    "        freqs[tuple(quad)] += freq\n",
    "    "
   ]
  },
  {
   "cell_type": "code",
   "execution_count": 28,
   "metadata": {},
   "outputs": [],
   "source": [
    "freqs[5, 12, 5, 16]\n",
    "# broadcast \"?? x\" across ??\n",
    "freqs[:, :, 0, :] = freqs[:, :, 0, :].sum(axis=(0,1), keepdims=True)\n",
    "# broadcast \"? xx\" across ?\n",
    "freqs[:, 0, :, :] = freqs[:, 0, :, :].sum(axis=(0,), keepdims=True)"
   ]
  },
  {
   "cell_type": "code",
   "execution_count": 29,
   "metadata": {},
   "outputs": [],
   "source": [
    "freqs += 1e-10\n",
    "freqs /= freqs.sum(axis=(3,), keepdims=True)"
   ]
  },
  {
   "cell_type": "code",
   "execution_count": 33,
   "metadata": {},
   "outputs": [
    {
     "data": {
      "text/plain": [
       "(1, 2, 2, 3)"
      ]
     },
     "execution_count": 33,
     "metadata": {},
     "output_type": "execute_result"
    }
   ],
   "source": [
    "(1,2) + (2,3)"
   ]
  },
  {
   "cell_type": "code",
   "execution_count": 37,
   "metadata": {},
   "outputs": [
    {
     "data": {
      "text/plain": [
       "<BarContainer object of 28 artists>"
      ]
     },
     "execution_count": 37,
     "metadata": {},
     "output_type": "execute_result"
    },
    {
     "data": {
      "image/png": "[encoded data removed]",
      "text/plain": [
       "<Figure size 640x480 with 1 Axes>"
      ]
     },
     "metadata": {},
     "output_type": "display_data"
    }
   ],
   "source": [
    "def num_to_letter(num):\n",
    "    if num == 0:\n",
    "        return ' '\n",
    "    if num == 27:\n",
    "        return '?'\n",
    "    return chr(num + 96)\n",
    "def get_cond_probs(trigram):\n",
    "    return {num_to_letter(i): freqs[trigram + (i,)] for i in range(28)}\n",
    "\n",
    "# a=1, b=2\n",
    "# the = (20, 8, 5, 0)\n",
    "conds = get_cond_probs((20, 8, 5))\n",
    "\n",
    "import matplotlib.pyplot as plt\n",
    "\n",
    "# plot a bar chart of the conditional probabilities labelling the x-axis with the letters\n",
    "plt.bar(conds.keys(), conds.values())\n"
   ]
  },
  {
   "cell_type": "code",
   "execution_count": 41,
   "metadata": {},
   "outputs": [],
   "source": [
    "dummy_matrix = np.array([[0.0, 1.0], [2.0, 6.0]], dtype=np.float64)\n",
    "dummy_bytes = freqs.tobytes()\n",
    "with open('dummy_matrix', 'wb') as f:\n",
    "    f.write(dummy_bytes)"
   ]
  }
 ],
 "metadata": {
  "kernelspec": {
   "display_name": "Python 3",
   "language": "python",
   "name": "python3"
  },
  "language_info": {
   "codemirror_mode": {
    "name": "ipython",
    "version": 3
   },
   "file_extension": ".py",
   "mimetype": "text/x-python",
   "name": "python",
   "nbconvert_exporter": "python",
   "pygments_lexer": "ipython3",
   "version": "3.12.3"
  }
 },
 "nbformat": 4,
 "nbformat_minor": 2
}
